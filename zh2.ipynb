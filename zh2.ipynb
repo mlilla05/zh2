{
    "metadata": {
        "kernelspec": {
            "name": "SQL",
            "display_name": "SQL",
            "language": "sql"
        },
        "language_info": {
            "name": "sql",
            "version": ""
        }
    },
    "nbformat_minor": 2,
    "nbformat": 4,
    "cells": [
        {
            "cell_type": "markdown",
            "source": [
                "**1\\. feladat**\n",
                "\n",
                "Készítsen lekérdezést, amely megjeleníti, hogy szobánként (SZOBA\\_FK) hány olyan foglalás történt, ahol a felnőttek száma nagyobb volt a gyermekek számánál!\n",
                "\n",
                "a. A lekérdezés jelenítse meg a végösszeget is megfelelően jelölve!"
            ],
            "metadata": {
                "azdata_cell_guid": "db0506ea-e23e-48ed-b7e6-103059956dcf"
            },
            "attachments": {}
        },
        {
            "cell_type": "code",
            "source": [
                "SELECT IIF(GROUPING_ID(SZOBA_FK)=1,'Végösszeg',CAST(SZOBA_FK as nvarchar(4))) AS 'Szoba azonosító',\r\n",
                "        COUNT(*) AS 'Db'\r\n",
                "FROM Foglalas\r\n",
                "WHERE FELNOTT_SZAM>GYERMEK_SZAM\r\n",
                "GROUP BY ROLLUP(SZOBA_FK)"
            ],
            "metadata": {
                "azdata_cell_guid": "01f19577-a5ee-4424-a7de-cc6fb0c3aaf1",
                "language": "sql"
            },
            "outputs": [
                {
                    "output_type": "display_data",
                    "data": {
                        "text/html": "(190 rows affected)"
                    },
                    "metadata": {}
                },
                {
                    "output_type": "display_data",
                    "data": {
                        "text/html": "Total execution time: 00:00:00.010"
                    },
                    "metadata": {}
                },
                {
                    "output_type": "execute_result",
                    "metadata": {},
                    "execution_count": 5,
                    "data": {
                        "application/vnd.dataresource+json": {
                            "schema": {
                                "fields": [
                                    {
                                        "name": "Szoba azonosító"
                                    },
                                    {
                                        "name": "Db"
                                    }
                                ]
                            },
                            "data": [
                                {
                                    "Szoba azonosító": "1",
                                    "Db": "7"
                                },
                                {
                                    "Szoba azonosító": "2",
                                    "Db": "2"
                                },
                                {
                                    "Szoba azonosító": "3",
                                    "Db": "3"
                                },
                                {
                                    "Szoba azonosító": "4",
                                    "Db": "5"
                                },
                                {
                                    "Szoba azonosító": "5",
                                    "Db": "2"
                                },
                                {
                                    "Szoba azonosító": "6",
                                    "Db": "5"
                                },
                                {
                                    "Szoba azonosító": "7",
                                    "Db": "6"
                                },
                                {
                                    "Szoba azonosító": "8",
                                    "Db": "5"
                                },
                                {
                                    "Szoba azonosító": "9",
                                    "Db": "4"
                                },
                                {
                                    "Szoba azonosító": "10",
                                    "Db": "4"
                                },
                                {
                                    "Szoba azonosító": "11",
                                    "Db": "4"
                                },
                                {
                                    "Szoba azonosító": "12",
                                    "Db": "7"
                                },
                                {
                                    "Szoba azonosító": "13",
                                    "Db": "4"
                                },
                                {
                                    "Szoba azonosító": "14",
                                    "Db": "3"
                                },
                                {
                                    "Szoba azonosító": "15",
                                    "Db": "4"
                                },
                                {
                                    "Szoba azonosító": "16",
                                    "Db": "1"
                                },
                                {
                                    "Szoba azonosító": "17",
                                    "Db": "2"
                                },
                                {
                                    "Szoba azonosító": "18",
                                    "Db": "3"
                                },
                                {
                                    "Szoba azonosító": "19",
                                    "Db": "4"
                                },
                                {
                                    "Szoba azonosító": "20",
                                    "Db": "5"
                                },
                                {
                                    "Szoba azonosító": "21",
                                    "Db": "1"
                                },
                                {
                                    "Szoba azonosító": "22",
                                    "Db": "2"
                                },
                                {
                                    "Szoba azonosító": "23",
                                    "Db": "3"
                                },
                                {
                                    "Szoba azonosító": "24",
                                    "Db": "3"
                                },
                                {
                                    "Szoba azonosító": "25",
                                    "Db": "1"
                                },
                                {
                                    "Szoba azonosító": "27",
                                    "Db": "5"
                                },
                                {
                                    "Szoba azonosító": "28",
                                    "Db": "5"
                                },
                                {
                                    "Szoba azonosító": "29",
                                    "Db": "3"
                                },
                                {
                                    "Szoba azonosító": "30",
                                    "Db": "2"
                                },
                                {
                                    "Szoba azonosító": "31",
                                    "Db": "1"
                                },
                                {
                                    "Szoba azonosító": "32",
                                    "Db": "1"
                                },
                                {
                                    "Szoba azonosító": "33",
                                    "Db": "3"
                                },
                                {
                                    "Szoba azonosító": "34",
                                    "Db": "3"
                                },
                                {
                                    "Szoba azonosító": "35",
                                    "Db": "6"
                                },
                                {
                                    "Szoba azonosító": "36",
                                    "Db": "4"
                                },
                                {
                                    "Szoba azonosító": "37",
                                    "Db": "2"
                                },
                                {
                                    "Szoba azonosító": "38",
                                    "Db": "5"
                                },
                                {
                                    "Szoba azonosító": "39",
                                    "Db": "4"
                                },
                                {
                                    "Szoba azonosító": "40",
                                    "Db": "3"
                                },
                                {
                                    "Szoba azonosító": "41",
                                    "Db": "1"
                                },
                                {
                                    "Szoba azonosító": "42",
                                    "Db": "5"
                                },
                                {
                                    "Szoba azonosító": "43",
                                    "Db": "4"
                                },
                                {
                                    "Szoba azonosító": "44",
                                    "Db": "6"
                                },
                                {
                                    "Szoba azonosító": "45",
                                    "Db": "4"
                                },
                                {
                                    "Szoba azonosító": "46",
                                    "Db": "3"
                                },
                                {
                                    "Szoba azonosító": "47",
                                    "Db": "2"
                                },
                                {
                                    "Szoba azonosító": "48",
                                    "Db": "6"
                                },
                                {
                                    "Szoba azonosító": "49",
                                    "Db": "5"
                                },
                                {
                                    "Szoba azonosító": "50",
                                    "Db": "3"
                                },
                                {
                                    "Szoba azonosító": "51",
                                    "Db": "3"
                                },
                                {
                                    "Szoba azonosító": "52",
                                    "Db": "5"
                                },
                                {
                                    "Szoba azonosító": "54",
                                    "Db": "4"
                                },
                                {
                                    "Szoba azonosító": "55",
                                    "Db": "3"
                                },
                                {
                                    "Szoba azonosító": "56",
                                    "Db": "1"
                                },
                                {
                                    "Szoba azonosító": "57",
                                    "Db": "3"
                                },
                                {
                                    "Szoba azonosító": "58",
                                    "Db": "8"
                                },
                                {
                                    "Szoba azonosító": "59",
                                    "Db": "4"
                                },
                                {
                                    "Szoba azonosító": "60",
                                    "Db": "1"
                                },
                                {
                                    "Szoba azonosító": "61",
                                    "Db": "4"
                                },
                                {
                                    "Szoba azonosító": "62",
                                    "Db": "3"
                                },
                                {
                                    "Szoba azonosító": "63",
                                    "Db": "3"
                                },
                                {
                                    "Szoba azonosító": "64",
                                    "Db": "5"
                                },
                                {
                                    "Szoba azonosító": "66",
                                    "Db": "3"
                                },
                                {
                                    "Szoba azonosító": "67",
                                    "Db": "2"
                                },
                                {
                                    "Szoba azonosító": "69",
                                    "Db": "2"
                                },
                                {
                                    "Szoba azonosító": "70",
                                    "Db": "8"
                                },
                                {
                                    "Szoba azonosító": "71",
                                    "Db": "2"
                                },
                                {
                                    "Szoba azonosító": "72",
                                    "Db": "2"
                                },
                                {
                                    "Szoba azonosító": "73",
                                    "Db": "4"
                                },
                                {
                                    "Szoba azonosító": "74",
                                    "Db": "8"
                                },
                                {
                                    "Szoba azonosító": "75",
                                    "Db": "2"
                                },
                                {
                                    "Szoba azonosító": "76",
                                    "Db": "2"
                                },
                                {
                                    "Szoba azonosító": "77",
                                    "Db": "3"
                                },
                                {
                                    "Szoba azonosító": "78",
                                    "Db": "3"
                                },
                                {
                                    "Szoba azonosító": "79",
                                    "Db": "4"
                                },
                                {
                                    "Szoba azonosító": "80",
                                    "Db": "5"
                                },
                                {
                                    "Szoba azonosító": "81",
                                    "Db": "3"
                                },
                                {
                                    "Szoba azonosító": "82",
                                    "Db": "5"
                                },
                                {
                                    "Szoba azonosító": "83",
                                    "Db": "5"
                                },
                                {
                                    "Szoba azonosító": "84",
                                    "Db": "3"
                                },
                                {
                                    "Szoba azonosító": "85",
                                    "Db": "2"
                                },
                                {
                                    "Szoba azonosító": "86",
                                    "Db": "4"
                                },
                                {
                                    "Szoba azonosító": "87",
                                    "Db": "5"
                                },
                                {
                                    "Szoba azonosító": "88",
                                    "Db": "5"
                                },
                                {
                                    "Szoba azonosító": "89",
                                    "Db": "8"
                                },
                                {
                                    "Szoba azonosító": "90",
                                    "Db": "3"
                                },
                                {
                                    "Szoba azonosító": "91",
                                    "Db": "2"
                                },
                                {
                                    "Szoba azonosító": "92",
                                    "Db": "5"
                                },
                                {
                                    "Szoba azonosító": "93",
                                    "Db": "3"
                                },
                                {
                                    "Szoba azonosító": "94",
                                    "Db": "6"
                                },
                                {
                                    "Szoba azonosító": "95",
                                    "Db": "3"
                                },
                                {
                                    "Szoba azonosító": "96",
                                    "Db": "6"
                                },
                                {
                                    "Szoba azonosító": "97",
                                    "Db": "5"
                                },
                                {
                                    "Szoba azonosító": "98",
                                    "Db": "4"
                                },
                                {
                                    "Szoba azonosító": "99",
                                    "Db": "4"
                                },
                                {
                                    "Szoba azonosító": "100",
                                    "Db": "2"
                                },
                                {
                                    "Szoba azonosító": "101",
                                    "Db": "1"
                                },
                                {
                                    "Szoba azonosító": "102",
                                    "Db": "1"
                                },
                                {
                                    "Szoba azonosító": "103",
                                    "Db": "1"
                                },
                                {
                                    "Szoba azonosító": "104",
                                    "Db": "3"
                                },
                                {
                                    "Szoba azonosító": "106",
                                    "Db": "4"
                                },
                                {
                                    "Szoba azonosító": "107",
                                    "Db": "4"
                                },
                                {
                                    "Szoba azonosító": "108",
                                    "Db": "1"
                                },
                                {
                                    "Szoba azonosító": "109",
                                    "Db": "2"
                                },
                                {
                                    "Szoba azonosító": "110",
                                    "Db": "5"
                                },
                                {
                                    "Szoba azonosító": "111",
                                    "Db": "1"
                                },
                                {
                                    "Szoba azonosító": "112",
                                    "Db": "4"
                                },
                                {
                                    "Szoba azonosító": "113",
                                    "Db": "2"
                                },
                                {
                                    "Szoba azonosító": "114",
                                    "Db": "1"
                                },
                                {
                                    "Szoba azonosító": "115",
                                    "Db": "5"
                                },
                                {
                                    "Szoba azonosító": "117",
                                    "Db": "4"
                                },
                                {
                                    "Szoba azonosító": "118",
                                    "Db": "2"
                                },
                                {
                                    "Szoba azonosító": "119",
                                    "Db": "4"
                                },
                                {
                                    "Szoba azonosító": "120",
                                    "Db": "2"
                                },
                                {
                                    "Szoba azonosító": "121",
                                    "Db": "5"
                                },
                                {
                                    "Szoba azonosító": "122",
                                    "Db": "3"
                                },
                                {
                                    "Szoba azonosító": "123",
                                    "Db": "5"
                                },
                                {
                                    "Szoba azonosító": "124",
                                    "Db": "4"
                                },
                                {
                                    "Szoba azonosító": "126",
                                    "Db": "4"
                                },
                                {
                                    "Szoba azonosító": "127",
                                    "Db": "5"
                                },
                                {
                                    "Szoba azonosító": "129",
                                    "Db": "3"
                                },
                                {
                                    "Szoba azonosító": "130",
                                    "Db": "5"
                                },
                                {
                                    "Szoba azonosító": "131",
                                    "Db": "4"
                                },
                                {
                                    "Szoba azonosító": "132",
                                    "Db": "4"
                                },
                                {
                                    "Szoba azonosító": "133",
                                    "Db": "4"
                                },
                                {
                                    "Szoba azonosító": "134",
                                    "Db": "4"
                                },
                                {
                                    "Szoba azonosító": "135",
                                    "Db": "3"
                                },
                                {
                                    "Szoba azonosító": "136",
                                    "Db": "2"
                                },
                                {
                                    "Szoba azonosító": "137",
                                    "Db": "2"
                                },
                                {
                                    "Szoba azonosító": "138",
                                    "Db": "5"
                                },
                                {
                                    "Szoba azonosító": "139",
                                    "Db": "6"
                                },
                                {
                                    "Szoba azonosító": "140",
                                    "Db": "5"
                                },
                                {
                                    "Szoba azonosító": "141",
                                    "Db": "4"
                                },
                                {
                                    "Szoba azonosító": "142",
                                    "Db": "1"
                                },
                                {
                                    "Szoba azonosító": "143",
                                    "Db": "5"
                                },
                                {
                                    "Szoba azonosító": "144",
                                    "Db": "2"
                                },
                                {
                                    "Szoba azonosító": "145",
                                    "Db": "2"
                                },
                                {
                                    "Szoba azonosító": "146",
                                    "Db": "3"
                                },
                                {
                                    "Szoba azonosító": "147",
                                    "Db": "1"
                                },
                                {
                                    "Szoba azonosító": "148",
                                    "Db": "5"
                                },
                                {
                                    "Szoba azonosító": "149",
                                    "Db": "5"
                                },
                                {
                                    "Szoba azonosító": "150",
                                    "Db": "6"
                                },
                                {
                                    "Szoba azonosító": "151",
                                    "Db": "2"
                                },
                                {
                                    "Szoba azonosító": "152",
                                    "Db": "3"
                                },
                                {
                                    "Szoba azonosító": "153",
                                    "Db": "4"
                                },
                                {
                                    "Szoba azonosító": "154",
                                    "Db": "3"
                                },
                                {
                                    "Szoba azonosító": "155",
                                    "Db": "3"
                                },
                                {
                                    "Szoba azonosító": "156",
                                    "Db": "2"
                                },
                                {
                                    "Szoba azonosító": "157",
                                    "Db": "2"
                                },
                                {
                                    "Szoba azonosító": "158",
                                    "Db": "3"
                                },
                                {
                                    "Szoba azonosító": "160",
                                    "Db": "2"
                                },
                                {
                                    "Szoba azonosító": "161",
                                    "Db": "3"
                                },
                                {
                                    "Szoba azonosító": "162",
                                    "Db": "2"
                                },
                                {
                                    "Szoba azonosító": "163",
                                    "Db": "5"
                                },
                                {
                                    "Szoba azonosító": "164",
                                    "Db": "4"
                                },
                                {
                                    "Szoba azonosító": "165",
                                    "Db": "5"
                                },
                                {
                                    "Szoba azonosító": "166",
                                    "Db": "3"
                                },
                                {
                                    "Szoba azonosító": "167",
                                    "Db": "2"
                                },
                                {
                                    "Szoba azonosító": "168",
                                    "Db": "1"
                                },
                                {
                                    "Szoba azonosító": "169",
                                    "Db": "3"
                                },
                                {
                                    "Szoba azonosító": "170",
                                    "Db": "3"
                                },
                                {
                                    "Szoba azonosító": "171",
                                    "Db": "5"
                                },
                                {
                                    "Szoba azonosító": "172",
                                    "Db": "6"
                                },
                                {
                                    "Szoba azonosító": "173",
                                    "Db": "3"
                                },
                                {
                                    "Szoba azonosító": "174",
                                    "Db": "4"
                                },
                                {
                                    "Szoba azonosító": "175",
                                    "Db": "3"
                                },
                                {
                                    "Szoba azonosító": "176",
                                    "Db": "2"
                                },
                                {
                                    "Szoba azonosító": "177",
                                    "Db": "1"
                                },
                                {
                                    "Szoba azonosító": "178",
                                    "Db": "1"
                                },
                                {
                                    "Szoba azonosító": "179",
                                    "Db": "2"
                                },
                                {
                                    "Szoba azonosító": "180",
                                    "Db": "1"
                                },
                                {
                                    "Szoba azonosító": "181",
                                    "Db": "5"
                                },
                                {
                                    "Szoba azonosító": "182",
                                    "Db": "11"
                                },
                                {
                                    "Szoba azonosító": "183",
                                    "Db": "3"
                                },
                                {
                                    "Szoba azonosító": "184",
                                    "Db": "4"
                                },
                                {
                                    "Szoba azonosító": "185",
                                    "Db": "10"
                                },
                                {
                                    "Szoba azonosító": "186",
                                    "Db": "1"
                                },
                                {
                                    "Szoba azonosító": "187",
                                    "Db": "6"
                                },
                                {
                                    "Szoba azonosító": "188",
                                    "Db": "2"
                                },
                                {
                                    "Szoba azonosító": "189",
                                    "Db": "1"
                                },
                                {
                                    "Szoba azonosító": "190",
                                    "Db": "5"
                                },
                                {
                                    "Szoba azonosító": "191",
                                    "Db": "3"
                                },
                                {
                                    "Szoba azonosító": "192",
                                    "Db": "1"
                                },
                                {
                                    "Szoba azonosító": "193",
                                    "Db": "2"
                                },
                                {
                                    "Szoba azonosító": "194",
                                    "Db": "1"
                                },
                                {
                                    "Szoba azonosító": "195",
                                    "Db": "5"
                                },
                                {
                                    "Szoba azonosító": "196",
                                    "Db": "2"
                                },
                                {
                                    "Szoba azonosító": "197",
                                    "Db": "6"
                                },
                                {
                                    "Szoba azonosító": "198",
                                    "Db": "7"
                                },
                                {
                                    "Szoba azonosító": "Végösszeg",
                                    "Db": "668"
                                }
                            ]
                        },
                        "text/html": [
                            "<table>",
                            "<tr><th>Szoba azonosító</th><th>Db</th></tr>",
                            "<tr><td>1</td><td>7</td></tr>",
                            "<tr><td>2</td><td>2</td></tr>",
                            "<tr><td>3</td><td>3</td></tr>",
                            "<tr><td>4</td><td>5</td></tr>",
                            "<tr><td>5</td><td>2</td></tr>",
                            "<tr><td>6</td><td>5</td></tr>",
                            "<tr><td>7</td><td>6</td></tr>",
                            "<tr><td>8</td><td>5</td></tr>",
                            "<tr><td>9</td><td>4</td></tr>",
                            "<tr><td>10</td><td>4</td></tr>",
                            "<tr><td>11</td><td>4</td></tr>",
                            "<tr><td>12</td><td>7</td></tr>",
                            "<tr><td>13</td><td>4</td></tr>",
                            "<tr><td>14</td><td>3</td></tr>",
                            "<tr><td>15</td><td>4</td></tr>",
                            "<tr><td>16</td><td>1</td></tr>",
                            "<tr><td>17</td><td>2</td></tr>",
                            "<tr><td>18</td><td>3</td></tr>",
                            "<tr><td>19</td><td>4</td></tr>",
                            "<tr><td>20</td><td>5</td></tr>",
                            "<tr><td>21</td><td>1</td></tr>",
                            "<tr><td>22</td><td>2</td></tr>",
                            "<tr><td>23</td><td>3</td></tr>",
                            "<tr><td>24</td><td>3</td></tr>",
                            "<tr><td>25</td><td>1</td></tr>",
                            "<tr><td>27</td><td>5</td></tr>",
                            "<tr><td>28</td><td>5</td></tr>",
                            "<tr><td>29</td><td>3</td></tr>",
                            "<tr><td>30</td><td>2</td></tr>",
                            "<tr><td>31</td><td>1</td></tr>",
                            "<tr><td>32</td><td>1</td></tr>",
                            "<tr><td>33</td><td>3</td></tr>",
                            "<tr><td>34</td><td>3</td></tr>",
                            "<tr><td>35</td><td>6</td></tr>",
                            "<tr><td>36</td><td>4</td></tr>",
                            "<tr><td>37</td><td>2</td></tr>",
                            "<tr><td>38</td><td>5</td></tr>",
                            "<tr><td>39</td><td>4</td></tr>",
                            "<tr><td>40</td><td>3</td></tr>",
                            "<tr><td>41</td><td>1</td></tr>",
                            "<tr><td>42</td><td>5</td></tr>",
                            "<tr><td>43</td><td>4</td></tr>",
                            "<tr><td>44</td><td>6</td></tr>",
                            "<tr><td>45</td><td>4</td></tr>",
                            "<tr><td>46</td><td>3</td></tr>",
                            "<tr><td>47</td><td>2</td></tr>",
                            "<tr><td>48</td><td>6</td></tr>",
                            "<tr><td>49</td><td>5</td></tr>",
                            "<tr><td>50</td><td>3</td></tr>",
                            "<tr><td>51</td><td>3</td></tr>",
                            "<tr><td>52</td><td>5</td></tr>",
                            "<tr><td>54</td><td>4</td></tr>",
                            "<tr><td>55</td><td>3</td></tr>",
                            "<tr><td>56</td><td>1</td></tr>",
                            "<tr><td>57</td><td>3</td></tr>",
                            "<tr><td>58</td><td>8</td></tr>",
                            "<tr><td>59</td><td>4</td></tr>",
                            "<tr><td>60</td><td>1</td></tr>",
                            "<tr><td>61</td><td>4</td></tr>",
                            "<tr><td>62</td><td>3</td></tr>",
                            "<tr><td>63</td><td>3</td></tr>",
                            "<tr><td>64</td><td>5</td></tr>",
                            "<tr><td>66</td><td>3</td></tr>",
                            "<tr><td>67</td><td>2</td></tr>",
                            "<tr><td>69</td><td>2</td></tr>",
                            "<tr><td>70</td><td>8</td></tr>",
                            "<tr><td>71</td><td>2</td></tr>",
                            "<tr><td>72</td><td>2</td></tr>",
                            "<tr><td>73</td><td>4</td></tr>",
                            "<tr><td>74</td><td>8</td></tr>",
                            "<tr><td>75</td><td>2</td></tr>",
                            "<tr><td>76</td><td>2</td></tr>",
                            "<tr><td>77</td><td>3</td></tr>",
                            "<tr><td>78</td><td>3</td></tr>",
                            "<tr><td>79</td><td>4</td></tr>",
                            "<tr><td>80</td><td>5</td></tr>",
                            "<tr><td>81</td><td>3</td></tr>",
                            "<tr><td>82</td><td>5</td></tr>",
                            "<tr><td>83</td><td>5</td></tr>",
                            "<tr><td>84</td><td>3</td></tr>",
                            "<tr><td>85</td><td>2</td></tr>",
                            "<tr><td>86</td><td>4</td></tr>",
                            "<tr><td>87</td><td>5</td></tr>",
                            "<tr><td>88</td><td>5</td></tr>",
                            "<tr><td>89</td><td>8</td></tr>",
                            "<tr><td>90</td><td>3</td></tr>",
                            "<tr><td>91</td><td>2</td></tr>",
                            "<tr><td>92</td><td>5</td></tr>",
                            "<tr><td>93</td><td>3</td></tr>",
                            "<tr><td>94</td><td>6</td></tr>",
                            "<tr><td>95</td><td>3</td></tr>",
                            "<tr><td>96</td><td>6</td></tr>",
                            "<tr><td>97</td><td>5</td></tr>",
                            "<tr><td>98</td><td>4</td></tr>",
                            "<tr><td>99</td><td>4</td></tr>",
                            "<tr><td>100</td><td>2</td></tr>",
                            "<tr><td>101</td><td>1</td></tr>",
                            "<tr><td>102</td><td>1</td></tr>",
                            "<tr><td>103</td><td>1</td></tr>",
                            "<tr><td>104</td><td>3</td></tr>",
                            "<tr><td>106</td><td>4</td></tr>",
                            "<tr><td>107</td><td>4</td></tr>",
                            "<tr><td>108</td><td>1</td></tr>",
                            "<tr><td>109</td><td>2</td></tr>",
                            "<tr><td>110</td><td>5</td></tr>",
                            "<tr><td>111</td><td>1</td></tr>",
                            "<tr><td>112</td><td>4</td></tr>",
                            "<tr><td>113</td><td>2</td></tr>",
                            "<tr><td>114</td><td>1</td></tr>",
                            "<tr><td>115</td><td>5</td></tr>",
                            "<tr><td>117</td><td>4</td></tr>",
                            "<tr><td>118</td><td>2</td></tr>",
                            "<tr><td>119</td><td>4</td></tr>",
                            "<tr><td>120</td><td>2</td></tr>",
                            "<tr><td>121</td><td>5</td></tr>",
                            "<tr><td>122</td><td>3</td></tr>",
                            "<tr><td>123</td><td>5</td></tr>",
                            "<tr><td>124</td><td>4</td></tr>",
                            "<tr><td>126</td><td>4</td></tr>",
                            "<tr><td>127</td><td>5</td></tr>",
                            "<tr><td>129</td><td>3</td></tr>",
                            "<tr><td>130</td><td>5</td></tr>",
                            "<tr><td>131</td><td>4</td></tr>",
                            "<tr><td>132</td><td>4</td></tr>",
                            "<tr><td>133</td><td>4</td></tr>",
                            "<tr><td>134</td><td>4</td></tr>",
                            "<tr><td>135</td><td>3</td></tr>",
                            "<tr><td>136</td><td>2</td></tr>",
                            "<tr><td>137</td><td>2</td></tr>",
                            "<tr><td>138</td><td>5</td></tr>",
                            "<tr><td>139</td><td>6</td></tr>",
                            "<tr><td>140</td><td>5</td></tr>",
                            "<tr><td>141</td><td>4</td></tr>",
                            "<tr><td>142</td><td>1</td></tr>",
                            "<tr><td>143</td><td>5</td></tr>",
                            "<tr><td>144</td><td>2</td></tr>",
                            "<tr><td>145</td><td>2</td></tr>",
                            "<tr><td>146</td><td>3</td></tr>",
                            "<tr><td>147</td><td>1</td></tr>",
                            "<tr><td>148</td><td>5</td></tr>",
                            "<tr><td>149</td><td>5</td></tr>",
                            "<tr><td>150</td><td>6</td></tr>",
                            "<tr><td>151</td><td>2</td></tr>",
                            "<tr><td>152</td><td>3</td></tr>",
                            "<tr><td>153</td><td>4</td></tr>",
                            "<tr><td>154</td><td>3</td></tr>",
                            "<tr><td>155</td><td>3</td></tr>",
                            "<tr><td>156</td><td>2</td></tr>",
                            "<tr><td>157</td><td>2</td></tr>",
                            "<tr><td>158</td><td>3</td></tr>",
                            "<tr><td>160</td><td>2</td></tr>",
                            "<tr><td>161</td><td>3</td></tr>",
                            "<tr><td>162</td><td>2</td></tr>",
                            "<tr><td>163</td><td>5</td></tr>",
                            "<tr><td>164</td><td>4</td></tr>",
                            "<tr><td>165</td><td>5</td></tr>",
                            "<tr><td>166</td><td>3</td></tr>",
                            "<tr><td>167</td><td>2</td></tr>",
                            "<tr><td>168</td><td>1</td></tr>",
                            "<tr><td>169</td><td>3</td></tr>",
                            "<tr><td>170</td><td>3</td></tr>",
                            "<tr><td>171</td><td>5</td></tr>",
                            "<tr><td>172</td><td>6</td></tr>",
                            "<tr><td>173</td><td>3</td></tr>",
                            "<tr><td>174</td><td>4</td></tr>",
                            "<tr><td>175</td><td>3</td></tr>",
                            "<tr><td>176</td><td>2</td></tr>",
                            "<tr><td>177</td><td>1</td></tr>",
                            "<tr><td>178</td><td>1</td></tr>",
                            "<tr><td>179</td><td>2</td></tr>",
                            "<tr><td>180</td><td>1</td></tr>",
                            "<tr><td>181</td><td>5</td></tr>",
                            "<tr><td>182</td><td>11</td></tr>",
                            "<tr><td>183</td><td>3</td></tr>",
                            "<tr><td>184</td><td>4</td></tr>",
                            "<tr><td>185</td><td>10</td></tr>",
                            "<tr><td>186</td><td>1</td></tr>",
                            "<tr><td>187</td><td>6</td></tr>",
                            "<tr><td>188</td><td>2</td></tr>",
                            "<tr><td>189</td><td>1</td></tr>",
                            "<tr><td>190</td><td>5</td></tr>",
                            "<tr><td>191</td><td>3</td></tr>",
                            "<tr><td>192</td><td>1</td></tr>",
                            "<tr><td>193</td><td>2</td></tr>",
                            "<tr><td>194</td><td>1</td></tr>",
                            "<tr><td>195</td><td>5</td></tr>",
                            "<tr><td>196</td><td>2</td></tr>",
                            "<tr><td>197</td><td>6</td></tr>",
                            "<tr><td>198</td><td>7</td></tr>",
                            "<tr><td>Végösszeg</td><td>668</td></tr>",
                            "</table>"
                        ]
                    }
                }
            ],
            "execution_count": 5
        },
        {
            "cell_type": "markdown",
            "source": [
                "**2\\. feladat**\n",
                "\n",
                "Rangsoroljuk az egyes szobákat a foglalások száma, azon belül férőhely szerint!\n",
                "\n",
                "- Holtverseny esetén a sorszámok sűrűn kövessék egymást\n",
                "- Az 1-es számot a legtöbbet foglalt, azon belül legkevesebb férőhelyű szoba kapja\n",
                "- Csak a szoba azonosítója, a férőhely és a helyezés jelenjen meg"
            ],
            "metadata": {
                "azdata_cell_guid": "913b8a1c-fcf8-4af9-aed9-56a24db64b98"
            },
            "attachments": {}
        },
        {
            "cell_type": "code",
            "source": [
                "SELECT sz.SZOBA_ID AS 'Szoba azonosító',\r\n",
                "        SUM(sz.FEROHELY) AS 'Férőhely',\r\n",
                "        DENSE_RANK() OVER(PARTITION BY COUNT(*), SUM(sz.FEROHELY) ORDER BY COUNT(*) DESC, SUM(sz.FEROHELY)) AS 'Helyezés'\r\n",
                "FROM Szoba sz JOIN Foglalas f ON sz.SZOBA_ID=f.SZOBA_FK\r\n",
                "GROUP BY sz.SZOBA_ID"
            ],
            "metadata": {
                "azdata_cell_guid": "4d9027cf-430a-48e6-a947-89d8dfb36b00",
                "language": "sql"
            },
            "outputs": [
                {
                    "output_type": "display_data",
                    "data": {
                        "text/html": "(197 rows affected)"
                    },
                    "metadata": {}
                },
                {
                    "output_type": "display_data",
                    "data": {
                        "text/html": "Total execution time: 00:00:00.013"
                    },
                    "metadata": {}
                },
                {
                    "output_type": "execute_result",
                    "metadata": {},
                    "execution_count": 35,
                    "data": {
                        "application/vnd.dataresource+json": {
                            "schema": {
                                "fields": [
                                    {
                                        "name": "Szoba azonosító"
                                    },
                                    {
                                        "name": "Férőhely"
                                    },
                                    {
                                        "name": "Helyezés"
                                    }
                                ]
                            },
                            "data": [
                                {
                                    "Szoba azonosító": "32",
                                    "Férőhely": "2",
                                    "Helyezés": "1"
                                },
                                {
                                    "Szoba azonosító": "65",
                                    "Férőhely": "2",
                                    "Helyezés": "1"
                                },
                                {
                                    "Szoba azonosító": "125",
                                    "Férőhely": "2",
                                    "Helyezés": "1"
                                },
                                {
                                    "Szoba azonosító": "147",
                                    "Férőhely": "2",
                                    "Helyezés": "1"
                                },
                                {
                                    "Szoba azonosító": "194",
                                    "Férőhely": "2",
                                    "Helyezés": "1"
                                },
                                {
                                    "Szoba azonosító": "60",
                                    "Férőhely": "3",
                                    "Helyezés": "1"
                                },
                                {
                                    "Szoba azonosító": "56",
                                    "Férőhely": "4",
                                    "Helyezés": "1"
                                },
                                {
                                    "Szoba azonosító": "53",
                                    "Férőhely": "4",
                                    "Helyezés": "1"
                                },
                                {
                                    "Szoba azonosító": "47",
                                    "Férőhely": "4",
                                    "Helyezés": "1"
                                },
                                {
                                    "Szoba azonosító": "26",
                                    "Férőhely": "4",
                                    "Helyezés": "1"
                                },
                                {
                                    "Szoba azonosító": "108",
                                    "Férőhely": "4",
                                    "Helyezés": "1"
                                },
                                {
                                    "Szoba azonosító": "102",
                                    "Férőhely": "4",
                                    "Helyezés": "1"
                                },
                                {
                                    "Szoba azonosító": "105",
                                    "Férőhely": "4",
                                    "Helyezés": "1"
                                },
                                {
                                    "Szoba azonosító": "192",
                                    "Férőhely": "4",
                                    "Helyezés": "1"
                                },
                                {
                                    "Szoba azonosító": "167",
                                    "Férőhely": "6",
                                    "Helyezés": "1"
                                },
                                {
                                    "Szoba azonosító": "116",
                                    "Férőhely": "6",
                                    "Helyezés": "1"
                                },
                                {
                                    "Szoba azonosító": "142",
                                    "Férőhely": "6",
                                    "Helyezés": "1"
                                },
                                {
                                    "Szoba azonosító": "25",
                                    "Férőhely": "6",
                                    "Helyezés": "1"
                                },
                                {
                                    "Szoba azonosító": "41",
                                    "Férőhely": "6",
                                    "Helyezés": "1"
                                },
                                {
                                    "Szoba azonosító": "37",
                                    "Férőhely": "6",
                                    "Helyezés": "1"
                                },
                                {
                                    "Szoba azonosító": "68",
                                    "Férőhely": "6",
                                    "Helyezés": "1"
                                },
                                {
                                    "Szoba azonosító": "23",
                                    "Férőhely": "6",
                                    "Helyezés": "1"
                                },
                                {
                                    "Szoba azonosító": "136",
                                    "Férőhely": "6",
                                    "Helyezés": "1"
                                },
                                {
                                    "Szoba azonosító": "101",
                                    "Férőhely": "6",
                                    "Helyezés": "1"
                                },
                                {
                                    "Szoba azonosító": "75",
                                    "Férőhely": "6",
                                    "Helyezés": "1"
                                },
                                {
                                    "Szoba azonosító": "76",
                                    "Férőhely": "6",
                                    "Helyezés": "1"
                                },
                                {
                                    "Szoba azonosító": "166",
                                    "Férőhely": "6",
                                    "Helyezés": "1"
                                },
                                {
                                    "Szoba azonosító": "180",
                                    "Férőhely": "6",
                                    "Helyezés": "1"
                                },
                                {
                                    "Szoba azonosító": "151",
                                    "Férőhely": "6",
                                    "Helyezés": "1"
                                },
                                {
                                    "Szoba azonosító": "158",
                                    "Férőhely": "6",
                                    "Helyezés": "1"
                                },
                                {
                                    "Szoba azonosító": "162",
                                    "Férőhely": "9",
                                    "Helyezés": "1"
                                },
                                {
                                    "Szoba azonosító": "179",
                                    "Férőhely": "9",
                                    "Helyezés": "1"
                                },
                                {
                                    "Szoba azonosító": "71",
                                    "Férőhely": "9",
                                    "Helyezés": "1"
                                },
                                {
                                    "Szoba azonosító": "135",
                                    "Férőhely": "9",
                                    "Helyezés": "1"
                                },
                                {
                                    "Szoba azonosító": "30",
                                    "Férőhely": "9",
                                    "Helyezés": "1"
                                },
                                {
                                    "Szoba azonosító": "31",
                                    "Férőhely": "9",
                                    "Helyezés": "1"
                                },
                                {
                                    "Szoba azonosító": "14",
                                    "Férőhely": "9",
                                    "Helyezés": "1"
                                },
                                {
                                    "Szoba azonosító": "24",
                                    "Férőhely": "12",
                                    "Helyezés": "1"
                                },
                                {
                                    "Szoba azonosító": "21",
                                    "Férőhely": "8",
                                    "Helyezés": "1"
                                },
                                {
                                    "Szoba azonosító": "11",
                                    "Férőhely": "8",
                                    "Helyezés": "1"
                                },
                                {
                                    "Szoba azonosító": "5",
                                    "Férőhely": "8",
                                    "Helyezés": "1"
                                },
                                {
                                    "Szoba azonosító": "63",
                                    "Férőhely": "8",
                                    "Helyezés": "1"
                                },
                                {
                                    "Szoba azonosító": "57",
                                    "Férőhely": "8",
                                    "Helyezés": "1"
                                },
                                {
                                    "Szoba azonosító": "50",
                                    "Férőhely": "8",
                                    "Helyezés": "1"
                                },
                                {
                                    "Szoba azonosító": "129",
                                    "Férőhely": "8",
                                    "Helyezés": "1"
                                },
                                {
                                    "Szoba azonosító": "114",
                                    "Férőhely": "8",
                                    "Helyezés": "1"
                                },
                                {
                                    "Szoba azonosító": "72",
                                    "Férőhely": "8",
                                    "Helyezés": "1"
                                },
                                {
                                    "Szoba azonosító": "73",
                                    "Férőhely": "8",
                                    "Helyezés": "1"
                                },
                                {
                                    "Szoba azonosító": "85",
                                    "Férőhely": "8",
                                    "Helyezés": "1"
                                },
                                {
                                    "Szoba azonosító": "103",
                                    "Férőhely": "8",
                                    "Helyezés": "1"
                                },
                                {
                                    "Szoba azonosító": "100",
                                    "Férőhely": "8",
                                    "Helyezés": "1"
                                },
                                {
                                    "Szoba azonosító": "91",
                                    "Férőhely": "8",
                                    "Helyezés": "1"
                                },
                                {
                                    "Szoba azonosító": "98",
                                    "Férőhely": "8",
                                    "Helyezés": "1"
                                },
                                {
                                    "Szoba azonosító": "184",
                                    "Férőhely": "8",
                                    "Helyezés": "1"
                                },
                                {
                                    "Szoba azonosító": "173",
                                    "Férőhely": "8",
                                    "Helyezés": "1"
                                },
                                {
                                    "Szoba azonosító": "174",
                                    "Férőhely": "8",
                                    "Helyezés": "1"
                                },
                                {
                                    "Szoba azonosító": "152",
                                    "Férőhely": "8",
                                    "Helyezés": "1"
                                },
                                {
                                    "Szoba azonosító": "186",
                                    "Férőhely": "8",
                                    "Helyezés": "1"
                                },
                                {
                                    "Szoba azonosító": "196",
                                    "Férőhely": "8",
                                    "Helyezés": "1"
                                },
                                {
                                    "Szoba azonosító": "183",
                                    "Férőhely": "12",
                                    "Helyezés": "1"
                                },
                                {
                                    "Szoba azonosító": "177",
                                    "Férőhely": "12",
                                    "Helyezés": "1"
                                },
                                {
                                    "Szoba azonosító": "178",
                                    "Férőhely": "12",
                                    "Helyezés": "1"
                                },
                                {
                                    "Szoba azonosító": "95",
                                    "Férőhely": "12",
                                    "Helyezés": "1"
                                },
                                {
                                    "Szoba azonosító": "90",
                                    "Férőhely": "12",
                                    "Helyezés": "1"
                                },
                                {
                                    "Szoba azonosító": "104",
                                    "Férőhely": "12",
                                    "Helyezés": "1"
                                },
                                {
                                    "Szoba azonosító": "84",
                                    "Férőhely": "12",
                                    "Helyezés": "1"
                                },
                                {
                                    "Szoba azonosító": "40",
                                    "Férőhely": "12",
                                    "Helyezés": "1"
                                },
                                {
                                    "Szoba azonosító": "46",
                                    "Férőhely": "12",
                                    "Helyezés": "1"
                                },
                                {
                                    "Szoba azonosító": "34",
                                    "Férőhely": "12",
                                    "Helyezés": "1"
                                },
                                {
                                    "Szoba azonosító": "69",
                                    "Férőhely": "12",
                                    "Helyezés": "1"
                                },
                                {
                                    "Szoba azonosító": "66",
                                    "Férőhely": "12",
                                    "Helyezés": "1"
                                },
                                {
                                    "Szoba azonosító": "2",
                                    "Férőhely": "12",
                                    "Helyezés": "1"
                                },
                                {
                                    "Szoba azonosító": "10",
                                    "Férőhely": "12",
                                    "Helyezés": "1"
                                },
                                {
                                    "Szoba azonosító": "13",
                                    "Férőhely": "12",
                                    "Helyezés": "1"
                                },
                                {
                                    "Szoba azonosító": "62",
                                    "Férőhely": "10",
                                    "Helyezés": "1"
                                },
                                {
                                    "Szoba azonosító": "52",
                                    "Férőhely": "10",
                                    "Helyezés": "1"
                                },
                                {
                                    "Szoba azonosító": "45",
                                    "Férőhely": "10",
                                    "Helyezés": "1"
                                },
                                {
                                    "Szoba azonosító": "81",
                                    "Férőhely": "10",
                                    "Helyezés": "1"
                                },
                                {
                                    "Szoba azonosító": "86",
                                    "Férőhely": "10",
                                    "Helyezés": "1"
                                },
                                {
                                    "Szoba azonosító": "107",
                                    "Férőhely": "10",
                                    "Helyezés": "1"
                                },
                                {
                                    "Szoba azonosító": "99",
                                    "Férőhely": "10",
                                    "Helyezés": "1"
                                },
                                {
                                    "Szoba azonosító": "111",
                                    "Férőhely": "10",
                                    "Helyezés": "1"
                                },
                                {
                                    "Szoba azonosító": "119",
                                    "Férőhely": "10",
                                    "Helyezés": "1"
                                },
                                {
                                    "Szoba azonosító": "128",
                                    "Férőhely": "10",
                                    "Helyezés": "1"
                                },
                                {
                                    "Szoba azonosító": "131",
                                    "Férőhely": "10",
                                    "Helyezés": "1"
                                },
                                {
                                    "Szoba azonosító": "175",
                                    "Férőhely": "10",
                                    "Helyezés": "1"
                                },
                                {
                                    "Szoba azonosító": "168",
                                    "Férőhely": "10",
                                    "Helyezés": "1"
                                },
                                {
                                    "Szoba azonosító": "170",
                                    "Férőhely": "10",
                                    "Helyezés": "1"
                                },
                                {
                                    "Szoba azonosító": "171",
                                    "Férőhely": "10",
                                    "Helyezés": "1"
                                },
                                {
                                    "Szoba azonosító": "154",
                                    "Férőhely": "10",
                                    "Helyezés": "1"
                                },
                                {
                                    "Szoba azonosító": "164",
                                    "Férőhely": "10",
                                    "Helyezés": "1"
                                },
                                {
                                    "Szoba azonosító": "157",
                                    "Férőhely": "10",
                                    "Helyezés": "1"
                                },
                                {
                                    "Szoba azonosító": "189",
                                    "Férőhely": "10",
                                    "Helyezés": "1"
                                },
                                {
                                    "Szoba azonosító": "190",
                                    "Férőhely": "10",
                                    "Helyezés": "1"
                                },
                                {
                                    "Szoba azonosító": "191",
                                    "Férőhely": "10",
                                    "Helyezés": "1"
                                },
                                {
                                    "Szoba azonosító": "160",
                                    "Férőhely": "15",
                                    "Helyezés": "1"
                                },
                                {
                                    "Szoba azonosító": "155",
                                    "Férőhely": "15",
                                    "Helyezés": "1"
                                },
                                {
                                    "Szoba azonosító": "153",
                                    "Férőhely": "15",
                                    "Helyezés": "1"
                                },
                                {
                                    "Szoba azonosító": "144",
                                    "Férőhely": "15",
                                    "Helyezés": "1"
                                },
                                {
                                    "Szoba azonosító": "123",
                                    "Férőhely": "15",
                                    "Helyezés": "1"
                                },
                                {
                                    "Szoba azonosító": "112",
                                    "Férőhely": "15",
                                    "Helyezés": "1"
                                },
                                {
                                    "Szoba azonosító": "113",
                                    "Férőhely": "15",
                                    "Helyezés": "1"
                                },
                                {
                                    "Szoba azonosító": "93",
                                    "Férőhely": "15",
                                    "Helyezés": "1"
                                },
                                {
                                    "Szoba azonosító": "87",
                                    "Férőhely": "15",
                                    "Helyezés": "1"
                                },
                                {
                                    "Szoba azonosító": "79",
                                    "Férőhely": "15",
                                    "Helyezés": "1"
                                },
                                {
                                    "Szoba azonosító": "51",
                                    "Férőhely": "15",
                                    "Helyezés": "1"
                                },
                                {
                                    "Szoba azonosító": "61",
                                    "Férőhely": "15",
                                    "Helyezés": "1"
                                },
                                {
                                    "Szoba azonosító": "20",
                                    "Férőhely": "15",
                                    "Helyezés": "1"
                                },
                                {
                                    "Szoba azonosító": "16",
                                    "Férőhely": "15",
                                    "Helyezés": "1"
                                },
                                {
                                    "Szoba azonosító": "8",
                                    "Férőhely": "15",
                                    "Helyezés": "1"
                                },
                                {
                                    "Szoba azonosító": "4",
                                    "Férőhely": "12",
                                    "Helyezés": "1"
                                },
                                {
                                    "Szoba azonosító": "15",
                                    "Férőhely": "12",
                                    "Helyezés": "1"
                                },
                                {
                                    "Szoba azonosító": "7",
                                    "Férőhely": "12",
                                    "Helyezés": "1"
                                },
                                {
                                    "Szoba azonosító": "19",
                                    "Férőhely": "12",
                                    "Helyezés": "1"
                                },
                                {
                                    "Szoba azonosító": "33",
                                    "Férőhely": "12",
                                    "Helyezés": "1"
                                },
                                {
                                    "Szoba azonosító": "28",
                                    "Férőhely": "12",
                                    "Helyezés": "1"
                                },
                                {
                                    "Szoba azonosító": "29",
                                    "Férőhely": "12",
                                    "Helyezés": "1"
                                },
                                {
                                    "Szoba azonosító": "64",
                                    "Férőhely": "12",
                                    "Helyezés": "1"
                                },
                                {
                                    "Szoba azonosító": "67",
                                    "Férőhely": "12",
                                    "Helyezés": "1"
                                },
                                {
                                    "Szoba azonosító": "42",
                                    "Férőhely": "12",
                                    "Helyezés": "1"
                                },
                                {
                                    "Szoba azonosító": "78",
                                    "Férőhely": "12",
                                    "Helyezés": "1"
                                },
                                {
                                    "Szoba azonosító": "106",
                                    "Férőhely": "12",
                                    "Helyezés": "1"
                                },
                                {
                                    "Szoba azonosító": "126",
                                    "Férőhely": "12",
                                    "Helyezés": "1"
                                },
                                {
                                    "Szoba azonosító": "130",
                                    "Férőhely": "12",
                                    "Helyezés": "1"
                                },
                                {
                                    "Szoba azonosító": "141",
                                    "Férőhely": "12",
                                    "Helyezés": "1"
                                },
                                {
                                    "Szoba azonosító": "137",
                                    "Férőhely": "12",
                                    "Helyezés": "1"
                                },
                                {
                                    "Szoba azonosító": "145",
                                    "Férőhely": "12",
                                    "Helyezés": "1"
                                },
                                {
                                    "Szoba azonosító": "148",
                                    "Férőhely": "12",
                                    "Helyezés": "1"
                                },
                                {
                                    "Szoba azonosító": "161",
                                    "Férőhely": "12",
                                    "Helyezés": "1"
                                },
                                {
                                    "Szoba azonosító": "150",
                                    "Férőhely": "12",
                                    "Helyezés": "1"
                                },
                                {
                                    "Szoba azonosító": "169",
                                    "Férőhely": "12",
                                    "Helyezés": "1"
                                },
                                {
                                    "Szoba azonosító": "195",
                                    "Férőhely": "12",
                                    "Helyezés": "1"
                                },
                                {
                                    "Szoba azonosító": "197",
                                    "Férőhely": "18",
                                    "Helyezés": "1"
                                },
                                {
                                    "Szoba azonosító": "188",
                                    "Férőhely": "18",
                                    "Helyezés": "1"
                                },
                                {
                                    "Szoba azonosító": "176",
                                    "Férőhely": "18",
                                    "Helyezés": "1"
                                },
                                {
                                    "Szoba azonosító": "181",
                                    "Férőhely": "18",
                                    "Helyezés": "1"
                                },
                                {
                                    "Szoba azonosító": "146",
                                    "Férőhely": "18",
                                    "Helyezés": "1"
                                },
                                {
                                    "Szoba azonosító": "132",
                                    "Férőhely": "18",
                                    "Helyezés": "1"
                                },
                                {
                                    "Szoba azonosító": "133",
                                    "Férőhely": "18",
                                    "Helyezés": "1"
                                },
                                {
                                    "Szoba azonosító": "134",
                                    "Férőhely": "18",
                                    "Helyezés": "1"
                                },
                                {
                                    "Szoba azonosító": "124",
                                    "Férőhely": "18",
                                    "Helyezés": "1"
                                },
                                {
                                    "Szoba azonosító": "120",
                                    "Férőhely": "18",
                                    "Helyezés": "1"
                                },
                                {
                                    "Szoba azonosító": "92",
                                    "Férőhely": "18",
                                    "Helyezés": "1"
                                },
                                {
                                    "Szoba azonosító": "82",
                                    "Férőhely": "18",
                                    "Helyezés": "1"
                                },
                                {
                                    "Szoba azonosító": "77",
                                    "Férőhely": "18",
                                    "Helyezés": "1"
                                },
                                {
                                    "Szoba azonosító": "36",
                                    "Férőhely": "18",
                                    "Helyezés": "1"
                                },
                                {
                                    "Szoba azonosító": "44",
                                    "Férőhely": "18",
                                    "Helyezés": "1"
                                },
                                {
                                    "Szoba azonosító": "54",
                                    "Férőhely": "18",
                                    "Helyezés": "1"
                                },
                                {
                                    "Szoba azonosító": "22",
                                    "Férőhely": "18",
                                    "Helyezés": "1"
                                },
                                {
                                    "Szoba azonosító": "17",
                                    "Férőhely": "18",
                                    "Helyezés": "1"
                                },
                                {
                                    "Szoba azonosító": "18",
                                    "Férőhely": "18",
                                    "Helyezés": "1"
                                },
                                {
                                    "Szoba azonosító": "9",
                                    "Férőhely": "18",
                                    "Helyezés": "1"
                                },
                                {
                                    "Szoba azonosító": "6",
                                    "Férőhely": "18",
                                    "Helyezés": "1"
                                },
                                {
                                    "Szoba azonosító": "59",
                                    "Férőhely": "14",
                                    "Helyezés": "1"
                                },
                                {
                                    "Szoba azonosító": "39",
                                    "Férőhely": "14",
                                    "Helyezés": "1"
                                },
                                {
                                    "Szoba azonosító": "80",
                                    "Férőhely": "14",
                                    "Helyezés": "1"
                                },
                                {
                                    "Szoba azonosító": "127",
                                    "Férőhely": "14",
                                    "Helyezés": "1"
                                },
                                {
                                    "Szoba azonosító": "109",
                                    "Férőhely": "14",
                                    "Helyezés": "1"
                                },
                                {
                                    "Szoba azonosító": "118",
                                    "Férőhely": "14",
                                    "Helyezés": "1"
                                },
                                {
                                    "Szoba azonosító": "139",
                                    "Férőhely": "14",
                                    "Helyezés": "1"
                                },
                                {
                                    "Szoba azonosító": "149",
                                    "Férőhely": "14",
                                    "Helyezés": "1"
                                },
                                {
                                    "Szoba azonosító": "156",
                                    "Férőhely": "14",
                                    "Helyezés": "1"
                                },
                                {
                                    "Szoba azonosító": "165",
                                    "Férőhely": "14",
                                    "Helyezés": "1"
                                },
                                {
                                    "Szoba azonosító": "163",
                                    "Férőhely": "14",
                                    "Helyezés": "1"
                                },
                                {
                                    "Szoba azonosító": "187",
                                    "Férőhely": "21",
                                    "Helyezés": "1"
                                },
                                {
                                    "Szoba azonosító": "193",
                                    "Férőhely": "21",
                                    "Helyezés": "1"
                                },
                                {
                                    "Szoba azonosító": "138",
                                    "Férőhely": "21",
                                    "Helyezés": "1"
                                },
                                {
                                    "Szoba azonosító": "143",
                                    "Férőhely": "21",
                                    "Helyezés": "1"
                                },
                                {
                                    "Szoba azonosító": "115",
                                    "Férőhely": "21",
                                    "Helyezés": "1"
                                },
                                {
                                    "Szoba azonosító": "96",
                                    "Férőhely": "21",
                                    "Helyezés": "1"
                                },
                                {
                                    "Szoba azonosító": "97",
                                    "Férőhely": "21",
                                    "Helyezés": "1"
                                },
                                {
                                    "Szoba azonosító": "49",
                                    "Férőhely": "21",
                                    "Helyezés": "1"
                                },
                                {
                                    "Szoba azonosító": "27",
                                    "Férőhely": "21",
                                    "Helyezés": "1"
                                },
                                {
                                    "Szoba azonosító": "55",
                                    "Férőhely": "16",
                                    "Helyezés": "1"
                                },
                                {
                                    "Szoba azonosító": "38",
                                    "Férőhely": "16",
                                    "Helyezés": "1"
                                },
                                {
                                    "Szoba azonosító": "110",
                                    "Férőhely": "16",
                                    "Helyezés": "1"
                                },
                                {
                                    "Szoba azonosító": "121",
                                    "Férőhely": "16",
                                    "Helyezés": "1"
                                },
                                {
                                    "Szoba azonosító": "140",
                                    "Férőhely": "16",
                                    "Helyezés": "1"
                                },
                                {
                                    "Szoba azonosító": "117",
                                    "Férőhely": "24",
                                    "Helyezés": "1"
                                },
                                {
                                    "Szoba azonosító": "83",
                                    "Férőhely": "24",
                                    "Helyezés": "1"
                                },
                                {
                                    "Szoba azonosító": "88",
                                    "Férőhely": "24",
                                    "Helyezés": "1"
                                },
                                {
                                    "Szoba azonosító": "89",
                                    "Férőhely": "24",
                                    "Helyezés": "1"
                                },
                                {
                                    "Szoba azonosító": "43",
                                    "Férőhely": "24",
                                    "Helyezés": "1"
                                },
                                {
                                    "Szoba azonosító": "1",
                                    "Férőhely": "24",
                                    "Helyezés": "1"
                                },
                                {
                                    "Szoba azonosító": "3",
                                    "Férőhely": "24",
                                    "Helyezés": "1"
                                },
                                {
                                    "Szoba azonosító": "198",
                                    "Férőhely": "24",
                                    "Helyezés": "1"
                                },
                                {
                                    "Szoba azonosító": "172",
                                    "Férőhely": "18",
                                    "Helyezés": "1"
                                },
                                {
                                    "Szoba azonosító": "12",
                                    "Férőhely": "18",
                                    "Helyezés": "1"
                                },
                                {
                                    "Szoba azonosító": "35",
                                    "Férőhely": "27",
                                    "Helyezés": "1"
                                },
                                {
                                    "Szoba azonosító": "48",
                                    "Férőhely": "27",
                                    "Helyezés": "1"
                                },
                                {
                                    "Szoba azonosító": "74",
                                    "Férőhely": "27",
                                    "Helyezés": "1"
                                },
                                {
                                    "Szoba azonosító": "122",
                                    "Férőhely": "27",
                                    "Helyezés": "1"
                                },
                                {
                                    "Szoba azonosító": "94",
                                    "Férőhely": "20",
                                    "Helyezés": "1"
                                },
                                {
                                    "Szoba azonosító": "70",
                                    "Férőhely": "22",
                                    "Helyezés": "1"
                                },
                                {
                                    "Szoba azonosító": "182",
                                    "Férőhely": "24",
                                    "Helyezés": "1"
                                },
                                {
                                    "Szoba azonosító": "185",
                                    "Férőhely": "36",
                                    "Helyezés": "1"
                                },
                                {
                                    "Szoba azonosító": "58",
                                    "Férőhely": "26",
                                    "Helyezés": "1"
                                }
                            ]
                        },
                        "text/html": [
                            "<table>",
                            "<tr><th>Szoba azonosító</th><th>Férőhely</th><th>Helyezés</th></tr>",
                            "<tr><td>32</td><td>2</td><td>1</td></tr>",
                            "<tr><td>65</td><td>2</td><td>1</td></tr>",
                            "<tr><td>125</td><td>2</td><td>1</td></tr>",
                            "<tr><td>147</td><td>2</td><td>1</td></tr>",
                            "<tr><td>194</td><td>2</td><td>1</td></tr>",
                            "<tr><td>60</td><td>3</td><td>1</td></tr>",
                            "<tr><td>56</td><td>4</td><td>1</td></tr>",
                            "<tr><td>53</td><td>4</td><td>1</td></tr>",
                            "<tr><td>47</td><td>4</td><td>1</td></tr>",
                            "<tr><td>26</td><td>4</td><td>1</td></tr>",
                            "<tr><td>108</td><td>4</td><td>1</td></tr>",
                            "<tr><td>102</td><td>4</td><td>1</td></tr>",
                            "<tr><td>105</td><td>4</td><td>1</td></tr>",
                            "<tr><td>192</td><td>4</td><td>1</td></tr>",
                            "<tr><td>167</td><td>6</td><td>1</td></tr>",
                            "<tr><td>116</td><td>6</td><td>1</td></tr>",
                            "<tr><td>142</td><td>6</td><td>1</td></tr>",
                            "<tr><td>25</td><td>6</td><td>1</td></tr>",
                            "<tr><td>41</td><td>6</td><td>1</td></tr>",
                            "<tr><td>37</td><td>6</td><td>1</td></tr>",
                            "<tr><td>68</td><td>6</td><td>1</td></tr>",
                            "<tr><td>23</td><td>6</td><td>1</td></tr>",
                            "<tr><td>136</td><td>6</td><td>1</td></tr>",
                            "<tr><td>101</td><td>6</td><td>1</td></tr>",
                            "<tr><td>75</td><td>6</td><td>1</td></tr>",
                            "<tr><td>76</td><td>6</td><td>1</td></tr>",
                            "<tr><td>166</td><td>6</td><td>1</td></tr>",
                            "<tr><td>180</td><td>6</td><td>1</td></tr>",
                            "<tr><td>151</td><td>6</td><td>1</td></tr>",
                            "<tr><td>158</td><td>6</td><td>1</td></tr>",
                            "<tr><td>162</td><td>9</td><td>1</td></tr>",
                            "<tr><td>179</td><td>9</td><td>1</td></tr>",
                            "<tr><td>71</td><td>9</td><td>1</td></tr>",
                            "<tr><td>135</td><td>9</td><td>1</td></tr>",
                            "<tr><td>30</td><td>9</td><td>1</td></tr>",
                            "<tr><td>31</td><td>9</td><td>1</td></tr>",
                            "<tr><td>14</td><td>9</td><td>1</td></tr>",
                            "<tr><td>24</td><td>12</td><td>1</td></tr>",
                            "<tr><td>21</td><td>8</td><td>1</td></tr>",
                            "<tr><td>11</td><td>8</td><td>1</td></tr>",
                            "<tr><td>5</td><td>8</td><td>1</td></tr>",
                            "<tr><td>63</td><td>8</td><td>1</td></tr>",
                            "<tr><td>57</td><td>8</td><td>1</td></tr>",
                            "<tr><td>50</td><td>8</td><td>1</td></tr>",
                            "<tr><td>129</td><td>8</td><td>1</td></tr>",
                            "<tr><td>114</td><td>8</td><td>1</td></tr>",
                            "<tr><td>72</td><td>8</td><td>1</td></tr>",
                            "<tr><td>73</td><td>8</td><td>1</td></tr>",
                            "<tr><td>85</td><td>8</td><td>1</td></tr>",
                            "<tr><td>103</td><td>8</td><td>1</td></tr>",
                            "<tr><td>100</td><td>8</td><td>1</td></tr>",
                            "<tr><td>91</td><td>8</td><td>1</td></tr>",
                            "<tr><td>98</td><td>8</td><td>1</td></tr>",
                            "<tr><td>184</td><td>8</td><td>1</td></tr>",
                            "<tr><td>173</td><td>8</td><td>1</td></tr>",
                            "<tr><td>174</td><td>8</td><td>1</td></tr>",
                            "<tr><td>152</td><td>8</td><td>1</td></tr>",
                            "<tr><td>186</td><td>8</td><td>1</td></tr>",
                            "<tr><td>196</td><td>8</td><td>1</td></tr>",
                            "<tr><td>183</td><td>12</td><td>1</td></tr>",
                            "<tr><td>177</td><td>12</td><td>1</td></tr>",
                            "<tr><td>178</td><td>12</td><td>1</td></tr>",
                            "<tr><td>95</td><td>12</td><td>1</td></tr>",
                            "<tr><td>90</td><td>12</td><td>1</td></tr>",
                            "<tr><td>104</td><td>12</td><td>1</td></tr>",
                            "<tr><td>84</td><td>12</td><td>1</td></tr>",
                            "<tr><td>40</td><td>12</td><td>1</td></tr>",
                            "<tr><td>46</td><td>12</td><td>1</td></tr>",
                            "<tr><td>34</td><td>12</td><td>1</td></tr>",
                            "<tr><td>69</td><td>12</td><td>1</td></tr>",
                            "<tr><td>66</td><td>12</td><td>1</td></tr>",
                            "<tr><td>2</td><td>12</td><td>1</td></tr>",
                            "<tr><td>10</td><td>12</td><td>1</td></tr>",
                            "<tr><td>13</td><td>12</td><td>1</td></tr>",
                            "<tr><td>62</td><td>10</td><td>1</td></tr>",
                            "<tr><td>52</td><td>10</td><td>1</td></tr>",
                            "<tr><td>45</td><td>10</td><td>1</td></tr>",
                            "<tr><td>81</td><td>10</td><td>1</td></tr>",
                            "<tr><td>86</td><td>10</td><td>1</td></tr>",
                            "<tr><td>107</td><td>10</td><td>1</td></tr>",
                            "<tr><td>99</td><td>10</td><td>1</td></tr>",
                            "<tr><td>111</td><td>10</td><td>1</td></tr>",
                            "<tr><td>119</td><td>10</td><td>1</td></tr>",
                            "<tr><td>128</td><td>10</td><td>1</td></tr>",
                            "<tr><td>131</td><td>10</td><td>1</td></tr>",
                            "<tr><td>175</td><td>10</td><td>1</td></tr>",
                            "<tr><td>168</td><td>10</td><td>1</td></tr>",
                            "<tr><td>170</td><td>10</td><td>1</td></tr>",
                            "<tr><td>171</td><td>10</td><td>1</td></tr>",
                            "<tr><td>154</td><td>10</td><td>1</td></tr>",
                            "<tr><td>164</td><td>10</td><td>1</td></tr>",
                            "<tr><td>157</td><td>10</td><td>1</td></tr>",
                            "<tr><td>189</td><td>10</td><td>1</td></tr>",
                            "<tr><td>190</td><td>10</td><td>1</td></tr>",
                            "<tr><td>191</td><td>10</td><td>1</td></tr>",
                            "<tr><td>160</td><td>15</td><td>1</td></tr>",
                            "<tr><td>155</td><td>15</td><td>1</td></tr>",
                            "<tr><td>153</td><td>15</td><td>1</td></tr>",
                            "<tr><td>144</td><td>15</td><td>1</td></tr>",
                            "<tr><td>123</td><td>15</td><td>1</td></tr>",
                            "<tr><td>112</td><td>15</td><td>1</td></tr>",
                            "<tr><td>113</td><td>15</td><td>1</td></tr>",
                            "<tr><td>93</td><td>15</td><td>1</td></tr>",
                            "<tr><td>87</td><td>15</td><td>1</td></tr>",
                            "<tr><td>79</td><td>15</td><td>1</td></tr>",
                            "<tr><td>51</td><td>15</td><td>1</td></tr>",
                            "<tr><td>61</td><td>15</td><td>1</td></tr>",
                            "<tr><td>20</td><td>15</td><td>1</td></tr>",
                            "<tr><td>16</td><td>15</td><td>1</td></tr>",
                            "<tr><td>8</td><td>15</td><td>1</td></tr>",
                            "<tr><td>4</td><td>12</td><td>1</td></tr>",
                            "<tr><td>15</td><td>12</td><td>1</td></tr>",
                            "<tr><td>7</td><td>12</td><td>1</td></tr>",
                            "<tr><td>19</td><td>12</td><td>1</td></tr>",
                            "<tr><td>33</td><td>12</td><td>1</td></tr>",
                            "<tr><td>28</td><td>12</td><td>1</td></tr>",
                            "<tr><td>29</td><td>12</td><td>1</td></tr>",
                            "<tr><td>64</td><td>12</td><td>1</td></tr>",
                            "<tr><td>67</td><td>12</td><td>1</td></tr>",
                            "<tr><td>42</td><td>12</td><td>1</td></tr>",
                            "<tr><td>78</td><td>12</td><td>1</td></tr>",
                            "<tr><td>106</td><td>12</td><td>1</td></tr>",
                            "<tr><td>126</td><td>12</td><td>1</td></tr>",
                            "<tr><td>130</td><td>12</td><td>1</td></tr>",
                            "<tr><td>141</td><td>12</td><td>1</td></tr>",
                            "<tr><td>137</td><td>12</td><td>1</td></tr>",
                            "<tr><td>145</td><td>12</td><td>1</td></tr>",
                            "<tr><td>148</td><td>12</td><td>1</td></tr>",
                            "<tr><td>161</td><td>12</td><td>1</td></tr>",
                            "<tr><td>150</td><td>12</td><td>1</td></tr>",
                            "<tr><td>169</td><td>12</td><td>1</td></tr>",
                            "<tr><td>195</td><td>12</td><td>1</td></tr>",
                            "<tr><td>197</td><td>18</td><td>1</td></tr>",
                            "<tr><td>188</td><td>18</td><td>1</td></tr>",
                            "<tr><td>176</td><td>18</td><td>1</td></tr>",
                            "<tr><td>181</td><td>18</td><td>1</td></tr>",
                            "<tr><td>146</td><td>18</td><td>1</td></tr>",
                            "<tr><td>132</td><td>18</td><td>1</td></tr>",
                            "<tr><td>133</td><td>18</td><td>1</td></tr>",
                            "<tr><td>134</td><td>18</td><td>1</td></tr>",
                            "<tr><td>124</td><td>18</td><td>1</td></tr>",
                            "<tr><td>120</td><td>18</td><td>1</td></tr>",
                            "<tr><td>92</td><td>18</td><td>1</td></tr>",
                            "<tr><td>82</td><td>18</td><td>1</td></tr>",
                            "<tr><td>77</td><td>18</td><td>1</td></tr>",
                            "<tr><td>36</td><td>18</td><td>1</td></tr>",
                            "<tr><td>44</td><td>18</td><td>1</td></tr>",
                            "<tr><td>54</td><td>18</td><td>1</td></tr>",
                            "<tr><td>22</td><td>18</td><td>1</td></tr>",
                            "<tr><td>17</td><td>18</td><td>1</td></tr>",
                            "<tr><td>18</td><td>18</td><td>1</td></tr>",
                            "<tr><td>9</td><td>18</td><td>1</td></tr>",
                            "<tr><td>6</td><td>18</td><td>1</td></tr>",
                            "<tr><td>59</td><td>14</td><td>1</td></tr>",
                            "<tr><td>39</td><td>14</td><td>1</td></tr>",
                            "<tr><td>80</td><td>14</td><td>1</td></tr>",
                            "<tr><td>127</td><td>14</td><td>1</td></tr>",
                            "<tr><td>109</td><td>14</td><td>1</td></tr>",
                            "<tr><td>118</td><td>14</td><td>1</td></tr>",
                            "<tr><td>139</td><td>14</td><td>1</td></tr>",
                            "<tr><td>149</td><td>14</td><td>1</td></tr>",
                            "<tr><td>156</td><td>14</td><td>1</td></tr>",
                            "<tr><td>165</td><td>14</td><td>1</td></tr>",
                            "<tr><td>163</td><td>14</td><td>1</td></tr>",
                            "<tr><td>187</td><td>21</td><td>1</td></tr>",
                            "<tr><td>193</td><td>21</td><td>1</td></tr>",
                            "<tr><td>138</td><td>21</td><td>1</td></tr>",
                            "<tr><td>143</td><td>21</td><td>1</td></tr>",
                            "<tr><td>115</td><td>21</td><td>1</td></tr>",
                            "<tr><td>96</td><td>21</td><td>1</td></tr>",
                            "<tr><td>97</td><td>21</td><td>1</td></tr>",
                            "<tr><td>49</td><td>21</td><td>1</td></tr>",
                            "<tr><td>27</td><td>21</td><td>1</td></tr>",
                            "<tr><td>55</td><td>16</td><td>1</td></tr>",
                            "<tr><td>38</td><td>16</td><td>1</td></tr>",
                            "<tr><td>110</td><td>16</td><td>1</td></tr>",
                            "<tr><td>121</td><td>16</td><td>1</td></tr>",
                            "<tr><td>140</td><td>16</td><td>1</td></tr>",
                            "<tr><td>117</td><td>24</td><td>1</td></tr>",
                            "<tr><td>83</td><td>24</td><td>1</td></tr>",
                            "<tr><td>88</td><td>24</td><td>1</td></tr>",
                            "<tr><td>89</td><td>24</td><td>1</td></tr>",
                            "<tr><td>43</td><td>24</td><td>1</td></tr>",
                            "<tr><td>1</td><td>24</td><td>1</td></tr>",
                            "<tr><td>3</td><td>24</td><td>1</td></tr>",
                            "<tr><td>198</td><td>24</td><td>1</td></tr>",
                            "<tr><td>172</td><td>18</td><td>1</td></tr>",
                            "<tr><td>12</td><td>18</td><td>1</td></tr>",
                            "<tr><td>35</td><td>27</td><td>1</td></tr>",
                            "<tr><td>48</td><td>27</td><td>1</td></tr>",
                            "<tr><td>74</td><td>27</td><td>1</td></tr>",
                            "<tr><td>122</td><td>27</td><td>1</td></tr>",
                            "<tr><td>94</td><td>20</td><td>1</td></tr>",
                            "<tr><td>70</td><td>22</td><td>1</td></tr>",
                            "<tr><td>182</td><td>24</td><td>1</td></tr>",
                            "<tr><td>185</td><td>36</td><td>1</td></tr>",
                            "<tr><td>58</td><td>26</td><td>1</td></tr>",
                            "</table>"
                        ]
                    }
                }
            ],
            "execution_count": 35
        },
        {
            "cell_type": "markdown",
            "source": [
                "**3\\. feladat**\n",
                "\n",
                "Jelenítsük meg, hogy az egyes szálláshelyeken összesen hány foglalás történt!\n",
                "\n",
                "a. Csak a szálláshely neve és a foglalásszám jelenjen meg\n",
                "\n",
                "b. A listát szűrjük azon szálláshelyekre, ahol több foglalás történt, mint a Fortuna panzióban!"
            ],
            "metadata": {
                "azdata_cell_guid": "2b9b6233-5465-479e-af27-5dcf99c14f82"
            },
            "attachments": {}
        },
        {
            "cell_type": "code",
            "source": [
                "SELECT szh.SZALLAS_NEV AS 'Szálláshely név',\r\n",
                "        COUNT(*) AS 'Foglalásszám'\r\n",
                "FROM Szallashely szh JOIN Szoba sz ON szh.SZALLAS_ID=sz.SZALLAS_FK\r\n",
                "                    JOIN Foglalas f ON sz.SZOBA_ID=f.SZOBA_FK\r\n",
                "GROUP BY szh.SZALLAS_NEV\r\n",
                "HAVING COUNT(*) > (\r\n",
                "                    SELECT COUNT(*)\r\n",
                "                    FROM Szallashely szh2 JOIN Szoba sz2 ON szh2.SZALLAS_ID=sz2.SZALLAS_FK\r\n",
                "                                        JOIN Foglalas f2 ON sz2.SZOBA_ID=f2.SZOBA_FK\r\n",
                "                    WHERE szh2.SZALLAS_NEV = 'Fortuna Panzió'\r\n",
                "                )"
            ],
            "metadata": {
                "azdata_cell_guid": "36c8a2db-29a3-4f22-befd-5fc7739c94c0",
                "language": "sql"
            },
            "outputs": [
                {
                    "output_type": "display_data",
                    "data": {
                        "text/html": "(3 rows affected)"
                    },
                    "metadata": {}
                },
                {
                    "output_type": "display_data",
                    "data": {
                        "text/html": "Total execution time: 00:00:00.021"
                    },
                    "metadata": {}
                },
                {
                    "output_type": "execute_result",
                    "metadata": {},
                    "execution_count": 19,
                    "data": {
                        "application/vnd.dataresource+json": {
                            "schema": {
                                "fields": [
                                    {
                                        "name": "Szálláshely név"
                                    },
                                    {
                                        "name": "Foglalásszám"
                                    }
                                ]
                            },
                            "data": [
                                {
                                    "Szálláshely név": "Gold Hotel",
                                    "Foglalásszám": "179"
                                },
                                {
                                    "Szálláshely név": "Hotel Három Hattyú",
                                    "Foglalásszám": "204"
                                },
                                {
                                    "Szálláshely név": "Kentaur Hotel",
                                    "Foglalásszám": "179"
                                }
                            ]
                        },
                        "text/html": [
                            "<table>",
                            "<tr><th>Szálláshely név</th><th>Foglalásszám</th></tr>",
                            "<tr><td>Gold Hotel</td><td>179</td></tr>",
                            "<tr><td>Hotel Három Hattyú</td><td>204</td></tr>",
                            "<tr><td>Kentaur Hotel</td><td>179</td></tr>",
                            "</table>"
                        ]
                    }
                }
            ],
            "execution_count": 19
        }
    ]
}